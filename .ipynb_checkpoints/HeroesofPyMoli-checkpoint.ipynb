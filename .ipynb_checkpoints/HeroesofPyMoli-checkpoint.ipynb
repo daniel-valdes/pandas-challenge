{
 "cells": [
  {
   "cell_type": "code",
   "execution_count": 1,
   "metadata": {},
   "outputs": [],
   "source": [
    "import pandas as pd\n",
    "\n",
    "file_to_load = '/Users/danvaldes/Desktop/bootcamp/repo/04-Pandas/Homework/Instructions/HeroesOfPymoli/Resources/purchase_data.csv'\n",
    "\n",
    "purchase_data = pd.read_csv(file_to_load);"
   ]
  },
  {
   "cell_type": "code",
   "execution_count": 2,
   "metadata": {},
   "outputs": [],
   "source": [
    "# creates df with all unique players with gender and age, print a preview\n",
    "\n",
    "unique_players = purchase_data[['SN','Gender','Age']].drop_duplicates('SN')\n",
    "unique_players.head();\n",
    "\n",
    "# creates df with all unique items with ID and price, print a preview\n",
    "\n",
    "unique_items = purchase_data[['Item Name', 'Item ID', 'Price']].drop_duplicates('Item Name')\n",
    "unique_items.head();"
   ]
  },
  {
   "cell_type": "markdown",
   "metadata": {},
   "source": [
    "    \n",
    "      "
   ]
  },
  {
   "cell_type": "markdown",
   "metadata": {},
   "source": [
    "## Player Count"
   ]
  },
  {
   "cell_type": "code",
   "execution_count": null,
   "metadata": {
    "scrolled": false
   },
   "outputs": [],
   "source": [
    "summary_df = pd.DataFrame({\n",
    "    'Total Players':[unique_players['SN'].count()]\n",
    "})\n",
    "summary_df"
   ]
  },
  {
   "cell_type": "markdown",
   "metadata": {},
   "source": [
    "## Item Analysis"
   ]
  },
  {
   "cell_type": "code",
   "execution_count": null,
   "metadata": {
    "scrolled": true
   },
   "outputs": [],
   "source": [
    "averageprice = unique_items['Price'].mean()\n",
    "totalrev = purchase_data['Price'].sum()\n",
    "pd.options.display.float_format = '${:,.2f}'.format\n",
    "\n",
    "purchasing_analysis_df = pd.DataFrame({  \n",
    "    'Number of Unique Items':unique_items['Item Name'].count(),\n",
    "    \"Average Price\": averageprice,\n",
    "    \"Number of Purchases\": [purchase_data['Purchase ID'].count()],\n",
    "    \"Total Revenue\": totalrev,\n",
    "})\n",
    "\n",
    "purchasing_analysis_df"
   ]
  },
  {
   "cell_type": "markdown",
   "metadata": {},
   "source": [
    "## Gender Demographics"
   ]
  },
  {
   "cell_type": "code",
   "execution_count": null,
   "metadata": {
    "scrolled": true
   },
   "outputs": [],
   "source": [
    "pd.options.display.float_format = '{:,.2f}%'.format\n",
    "\n",
    "gender_demo = pd.DataFrame({\n",
    "    'Total Count': unique_players['Gender'].value_counts(),  \n",
    "    'Percentage of Players': (unique_players['Gender'].value_counts() / unique_players['SN'].count()) * 100\n",
    "})\n",
    "gender_demo"
   ]
  },
  {
   "cell_type": "markdown",
   "metadata": {},
   "source": [
    "## Gender Spending Analysis"
   ]
  },
  {
   "cell_type": "code",
   "execution_count": null,
   "metadata": {
    "scrolled": false
   },
   "outputs": [],
   "source": [
    "gender_group = purchase_data.groupby('Gender')\n",
    "\n",
    "avgpurpri = gender_group['Price'].mean()\n",
    "totpurval = gender_group['Price'].sum()\n",
    "avgtotpur = gender_group['Price'].sum() / unique_players['Gender'].value_counts()\n",
    "pd.options.display.float_format = '${:,.2f}'.format\n",
    "\n",
    "gender_purchase_df = pd.DataFrame({\n",
    "    'Purchase Count':gender_group['Purchase ID'].count(),\n",
    "    'Average Purchase Price':avgpurpri,\n",
    "    'Total Purchase Value':totpurval,\n",
    "    'Avg Total Purchase per Person':avgtotpur \n",
    "})\n",
    "\n",
    "gender_purchase_df"
   ]
  },
  {
   "cell_type": "markdown",
   "metadata": {},
   "source": [
    "        "
   ]
  },
  {
   "cell_type": "code",
   "execution_count": 3,
   "metadata": {},
   "outputs": [],
   "source": [
    "# create bins and labels for 'Age Ranges' column\n",
    "\n",
    "bins = [0,9,14,19,24,29,34,39,99]\n",
    "labels = ['<10','10-14','15-19','20-24','25-29','30-34','35-39','40+']\n",
    "\n",
    "\n",
    "# adding 'Age Ranges' column to both dataframes\n",
    "purchase_data['Age Ranges'] = pd.cut(purchase_data['Age'], bins = bins, labels = labels)\n",
    "purchase_data = purchase_data[['Purchase ID','SN','Age','Age Ranges','Gender','Item ID','Item Name','Price']]\n",
    "\n",
    "unique_players['Age Ranges'] = pd.cut(unique_players['Age'], bins = bins, labels = labels)\n",
    "unique_players = unique_players[['SN','Age','Age Ranges','Gender']]\n",
    "\n",
    "# grouping dataframes by 'Age Ranges'\n",
    "purchase_group_age = purchase_data.groupby('Age Ranges')\n",
    "player_group = unique_players.groupby('Age Ranges')"
   ]
  },
  {
   "cell_type": "markdown",
   "metadata": {},
   "source": [
    "## Age Demographics"
   ]
  },
  {
   "cell_type": "code",
   "execution_count": null,
   "metadata": {
    "scrolled": true
   },
   "outputs": [],
   "source": [
    "pd.options.display.float_format = '{:,.2f}%'.format\n",
    "\n",
    "age_demo_df = pd.DataFrame({\n",
    "    'Total Count': player_group['SN'].count(),\n",
    "    'Percentage of Players':(player_group['SN'].count() / unique_players['SN'].count()) * 100\n",
    "})\n",
    "\n",
    "age_demo_df"
   ]
  },
  {
   "cell_type": "markdown",
   "metadata": {},
   "source": [
    "## Age Spending Analysis"
   ]
  },
  {
   "cell_type": "code",
   "execution_count": null,
   "metadata": {
    "scrolled": false
   },
   "outputs": [],
   "source": [
    "pd.options.display.float_format = '${:,.2f}'.format\n",
    "\n",
    "age_purchase_df = pd.DataFrame ({\n",
    "    'Purchase Count':purchase_group_age['Purchase ID'].count(),\n",
    "    'Average Purchase Price':purchase_group_age['Price'].mean(),\n",
    "    'Total Purchase Value':purchase_group_age['Price'].sum(),\n",
    "    'Avg Total Purchase per Person':purchase_group_age['Price'].sum() / player_group['SN'].count()\n",
    "})\n",
    "\n",
    "age_purchase_df"
   ]
  },
  {
   "cell_type": "markdown",
   "metadata": {},
   "source": [
    "## Top Spenders"
   ]
  },
  {
   "cell_type": "code",
   "execution_count": 4,
   "metadata": {
    "scrolled": false
   },
   "outputs": [
    {
     "data": {
      "text/html": [
       "<div>\n",
       "<style scoped>\n",
       "    .dataframe tbody tr th:only-of-type {\n",
       "        vertical-align: middle;\n",
       "    }\n",
       "\n",
       "    .dataframe tbody tr th {\n",
       "        vertical-align: top;\n",
       "    }\n",
       "\n",
       "    .dataframe thead th {\n",
       "        text-align: right;\n",
       "    }\n",
       "</style>\n",
       "<table border=\"1\" class=\"dataframe\">\n",
       "  <thead>\n",
       "    <tr style=\"text-align: right;\">\n",
       "      <th></th>\n",
       "      <th>Purchase Count</th>\n",
       "      <th>Average Purchase Price</th>\n",
       "      <th>Total Purchase Value</th>\n",
       "    </tr>\n",
       "    <tr>\n",
       "      <th>SN</th>\n",
       "      <th></th>\n",
       "      <th></th>\n",
       "      <th></th>\n",
       "    </tr>\n",
       "  </thead>\n",
       "  <tbody>\n",
       "    <tr>\n",
       "      <th>Lisosia93</th>\n",
       "      <td>5</td>\n",
       "      <td>$3.79</td>\n",
       "      <td>$18.96</td>\n",
       "    </tr>\n",
       "    <tr>\n",
       "      <th>Idastidru52</th>\n",
       "      <td>4</td>\n",
       "      <td>$3.86</td>\n",
       "      <td>$15.45</td>\n",
       "    </tr>\n",
       "    <tr>\n",
       "      <th>Chamjask73</th>\n",
       "      <td>3</td>\n",
       "      <td>$4.61</td>\n",
       "      <td>$13.83</td>\n",
       "    </tr>\n",
       "    <tr>\n",
       "      <th>Iral74</th>\n",
       "      <td>4</td>\n",
       "      <td>$3.40</td>\n",
       "      <td>$13.62</td>\n",
       "    </tr>\n",
       "    <tr>\n",
       "      <th>Iskadarya95</th>\n",
       "      <td>3</td>\n",
       "      <td>$4.37</td>\n",
       "      <td>$13.10</td>\n",
       "    </tr>\n",
       "    <tr>\n",
       "      <th>Ilarin91</th>\n",
       "      <td>3</td>\n",
       "      <td>$4.23</td>\n",
       "      <td>$12.70</td>\n",
       "    </tr>\n",
       "    <tr>\n",
       "      <th>Ialallo29</th>\n",
       "      <td>3</td>\n",
       "      <td>$3.95</td>\n",
       "      <td>$11.84</td>\n",
       "    </tr>\n",
       "    <tr>\n",
       "      <th>Tyidaim51</th>\n",
       "      <td>3</td>\n",
       "      <td>$3.94</td>\n",
       "      <td>$11.83</td>\n",
       "    </tr>\n",
       "    <tr>\n",
       "      <th>Lassilsala30</th>\n",
       "      <td>3</td>\n",
       "      <td>$3.84</td>\n",
       "      <td>$11.51</td>\n",
       "    </tr>\n",
       "    <tr>\n",
       "      <th>Chadolyla44</th>\n",
       "      <td>3</td>\n",
       "      <td>$3.82</td>\n",
       "      <td>$11.46</td>\n",
       "    </tr>\n",
       "  </tbody>\n",
       "</table>\n",
       "</div>"
      ],
      "text/plain": [
       "              Purchase Count  Average Purchase Price  Total Purchase Value\n",
       "SN                                                                        \n",
       "Lisosia93                  5                   $3.79                $18.96\n",
       "Idastidru52                4                   $3.86                $15.45\n",
       "Chamjask73                 3                   $4.61                $13.83\n",
       "Iral74                     4                   $3.40                $13.62\n",
       "Iskadarya95                3                   $4.37                $13.10\n",
       "Ilarin91                   3                   $4.23                $12.70\n",
       "Ialallo29                  3                   $3.95                $11.84\n",
       "Tyidaim51                  3                   $3.94                $11.83\n",
       "Lassilsala30               3                   $3.84                $11.51\n",
       "Chadolyla44                3                   $3.82                $11.46"
      ]
     },
     "execution_count": 4,
     "metadata": {},
     "output_type": "execute_result"
    }
   ],
   "source": [
    "purchase_group_sn = purchase_data.groupby('SN')\n",
    "\n",
    "pd.options.display.float_format = '${:,.2f}'.format\n",
    "top_spenders_df = pd.DataFrame({\n",
    "    'Purchase Count':purchase_group_sn['Purchase ID'].count(),\n",
    "    'Average Purchase Price': purchase_group_sn['Price'].sum() / purchase_group_sn['Purchase ID'].count(),\n",
    "    'Total Purchase Value':purchase_group_sn['Price'].sum(),\n",
    "})\n",
    "\n",
    "\n",
    "top_spenders_df.sort_values(by='Total Purchase Value', ascending = False).head(10)"
   ]
  },
  {
   "cell_type": "code",
   "execution_count": 9,
   "metadata": {},
   "outputs": [
    {
     "name": "stdout",
     "output_type": "stream",
     "text": [
      "           SN  Age Age Ranges Gender\n",
      "74  Lisosia93   25      25-29   Male\n",
      "              SN  Age Age Ranges Gender\n",
      "290  Idastidru52   24      20-24   Male\n"
     ]
    }
   ],
   "source": [
    "print(unique_players.loc[unique_players['SN'] == 'Lisosia93'])\n",
    "print(unique_players.loc[unique_players['SN'] == 'Idastidru52'])"
   ]
  },
  {
   "cell_type": "markdown",
   "metadata": {},
   "source": [
    "## Most Profitable Items"
   ]
  },
  {
   "cell_type": "code",
   "execution_count": null,
   "metadata": {
    "scrolled": true
   },
   "outputs": [],
   "source": [
    "pd.options.display.float_format = '${:,.2f}'.format\n",
    "\n",
    "pop_items_group = purchase_data.groupby(['Item ID','Item Name'])\n",
    "\n",
    "top_items_df = pd.DataFrame({\n",
    "    'Purchase Count':pop_items_group['Purchase ID'].count(),\n",
    "    'Item Price':pop_items_group['Price'].max(),\n",
    "    'Total Purchase Value':pop_items_group['Purchase ID'].count() * pop_items_group['Price'].max()\n",
    "})\n",
    "\n",
    "top_items_df.sort_values(by = 'Total Purchase Value', ascending = False).head()"
   ]
  },
  {
   "cell_type": "markdown",
   "metadata": {},
   "source": [
    "## Most Profitable Items (Missing Item)"
   ]
  },
  {
   "cell_type": "code",
   "execution_count": null,
   "metadata": {
    "scrolled": false
   },
   "outputs": [],
   "source": [
    "pd.options.display.float_format = '${:,.2f}'.format\n",
    "\n",
    "pop_items_group = purchase_data.groupby(['Item Name'])\n",
    "\n",
    "top_items_df = pd.DataFrame({\n",
    "    'Purchase Count':pop_items_group['Purchase ID'].count(),\n",
    "    'Item Price':pop_items_group['Price'].max(),\n",
    "    'Total Purchase Value':pop_items_group['Purchase ID'].count() * pop_items_group['Price'].max()\n",
    "})\n",
    "\n",
    "top_items_df.sort_values(by = 'Total Purchase Value', ascending = False).head(3)"
   ]
  },
  {
   "cell_type": "markdown",
   "metadata": {},
   "source": [
    "  \n",
    "\n",
    "   "
   ]
  },
  {
   "cell_type": "markdown",
   "metadata": {},
   "source": [
    "## Observations\n",
    "\n",
    "\n",
    "### Gender Demographics\n",
    "Heroes of PyMoli has a player base of 576 unique players. The overwhelming majority of players are male (84%) who consequently make 84% of all purchases. Within each gender group, there are a fair bit of repeat buyers and the average amount spent is uniform among genders.\n",
    "\n",
    "### Age Demographics\n",
    "The majority of players fall into the 15 - 29 range and about ~24% of players fall on either side of that range. The two age ranges that spend the most are the <10 range and 35 - 39 range.\n",
    "\n",
    "### Top Spenders & Top Items\n",
    "Our top spenders are \"Lisosia93\" and \"Idastidru52\", two male players who are 24 and 25. Our top item is \"Oathbreaker, Last Hope of the Breaking Storm\" which has been bought 12 times bringing in revenue of 50.76. It should be noted that when we group by \"Item Name\" alone we find another item at the top of the list; \"Final Critic\" which has been bought 13 times and brings in revenues of 63.44. Final Critic may be missing an Item ID which is why it was left out of our other dataframe."
   ]
  },
  {
   "cell_type": "markdown",
   "metadata": {},
   "source": [
    "   "
   ]
  }
 ],
 "metadata": {
  "kernelspec": {
   "display_name": "Python 3",
   "language": "python",
   "name": "python3"
  },
  "language_info": {
   "codemirror_mode": {
    "name": "ipython",
    "version": 3
   },
   "file_extension": ".py",
   "mimetype": "text/x-python",
   "name": "python",
   "nbconvert_exporter": "python",
   "pygments_lexer": "ipython3",
   "version": "3.7.3"
  }
 },
 "nbformat": 4,
 "nbformat_minor": 2
}
